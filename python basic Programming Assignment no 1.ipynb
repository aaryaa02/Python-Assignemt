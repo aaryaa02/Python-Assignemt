{
 "cells": [
  {
   "cell_type": "code",
   "execution_count": null,
   "id": "16a8c944",
   "metadata": {},
   "outputs": [],
   "source": [
    "1. Write a Python program to print \"Hello Python\"?\n",
    "\n",
    "print(\"hello python\")\n"
   ]
  },
  {
   "cell_type": "code",
   "execution_count": null,
   "id": "67e63047",
   "metadata": {},
   "outputs": [],
   "source": [
    "2. Write a Python program to do arithmetical operations addition and division.?"
   ]
  },
  {
   "cell_type": "code",
   "execution_count": 2,
   "id": "7c4ce56f",
   "metadata": {},
   "outputs": [
    {
     "name": "stdout",
     "output_type": "stream",
     "text": [
      "60\n",
      "5.0\n"
     ]
    }
   ],
   "source": [
    "a = 50\n",
    "b = 10\n",
    "c=a+b\n",
    "d=a/b\n",
    "print(c)\n",
    "print(d)"
   ]
  },
  {
   "cell_type": "code",
   "execution_count": 3,
   "id": "c7ee79c1",
   "metadata": {},
   "outputs": [
    {
     "name": "stdout",
     "output_type": "stream",
     "text": [
      "Object `triangle` not found.\n",
      "750.0\n"
     ]
    }
   ],
   "source": [
    "3. Write a Python program to find the area of a triangle?\n",
    "\n",
    "breadth = 50\n",
    "height = 30\n",
    "\n",
    "area = 1/2 * breadth *height\n",
    "print(area)"
   ]
  },
  {
   "cell_type": "code",
   "execution_count": null,
   "id": "090e807d",
   "metadata": {},
   "outputs": [],
   "source": [
    "4. Write a Python program to swap two variables?\n"
   ]
  },
  {
   "cell_type": "code",
   "execution_count": 6,
   "id": "1c37062a",
   "metadata": {},
   "outputs": [
    {
     "name": "stdout",
     "output_type": "stream",
     "text": [
      "value of x is 20\n",
      "value of y is 50\n"
     ]
    }
   ],
   "source": [
    "x = 50\n",
    "y = 20\n",
    "\n",
    "temp = x\n",
    "x=y\n",
    "y=temp\n",
    "\n",
    "print (\"value of x is\" ,x)\n",
    "print (\"value of y is\" ,y)"
   ]
  },
  {
   "cell_type": "code",
   "execution_count": null,
   "id": "7cc78d5a",
   "metadata": {},
   "outputs": [],
   "source": [
    "5. Write a Python program to generate a random number?"
   ]
  },
  {
   "cell_type": "code",
   "execution_count": 8,
   "id": "cc262b03",
   "metadata": {},
   "outputs": [
    {
     "name": "stdout",
     "output_type": "stream",
     "text": [
      "0.27272701626083995\n"
     ]
    }
   ],
   "source": [
    "import random\n",
    "num = random.random()\n",
    "print(num)\n"
   ]
  }
 ],
 "metadata": {
  "kernelspec": {
   "display_name": "Python 3 (ipykernel)",
   "language": "python",
   "name": "python3"
  },
  "language_info": {
   "codemirror_mode": {
    "name": "ipython",
    "version": 3
   },
   "file_extension": ".py",
   "mimetype": "text/x-python",
   "name": "python",
   "nbconvert_exporter": "python",
   "pygments_lexer": "ipython3",
   "version": "3.9.12"
  }
 },
 "nbformat": 4,
 "nbformat_minor": 5
}

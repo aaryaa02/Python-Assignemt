{
 "cells": [
  {
   "cell_type": "raw",
   "id": "c41eda2a",
   "metadata": {},
   "source": [
    "1. In the below elements which of them are values or an expression? eg:- values can be\n",
    "integer or string and expressions will be mathematical operators.\n",
    "\n",
    "Ans : \n",
    "*  = Expression (Multiplication Operator)\n",
    "'hello' = Value (String)\n",
    "-87.8 = Value (Float)\n",
    "- = Expression (substraction operator)\n",
    "/ = Expression (Division operator)\n",
    "+ = Expression (Addition operator)\n",
    "6 = Value (Integer)\n"
   ]
  },
  {
   "cell_type": "code",
   "execution_count": null,
   "id": "8783b010",
   "metadata": {},
   "outputs": [],
   "source": [
    "2. What is the difference between string and variable?\n",
    "Ans:\n",
    "    \n",
    "1.Variable is the keyword that holds/ Stores the data in it.it is simply a refrence or pointer to the data. whereas String \n",
    "is the data which is assign  or store inside the Variable.\n",
    "For Example:- N =\"Arya\"\n",
    "    here, N is the variable which stores the String data Arya which is enclosed in \"\".\n"
   ]
  },
  {
   "cell_type": "raw",
   "id": "b747baf6",
   "metadata": {},
   "source": [
    "# 3.Describe three different data types.\n",
    "Ans:\n",
    "\n",
    "    A.Numeric data types:-\n",
    "    \n",
    "        Int , Float , Complex \n",
    "        \n",
    "    1.Int :\n",
    "    \n",
    "    interger is the data type refer to numeric values.it is an  numeric data type. Any positive or negative other than decimal \n",
    "    number is can be integer\n",
    "    example = 1 , 324234, -45 ,0 \n",
    "    \n",
    "    2. Float:\n",
    "    \n",
    "         Float is the data type refer to decimal numeric values.\n",
    "        example = 3.5,-324.45 \n",
    "        \n",
    "    3. Complex:\n",
    "    \n",
    "        The complex data type in python consists of two values, the first one is the real part of the complex number\n",
    "        , and the second one is the imaginary part of the complex number \n",
    "        example = (5 + 9j)\n",
    "        \n",
    "    B. Boolean Data type :-\n",
    "    \n",
    "    Python boolean type is one of the built-in data types provided by Python, which represents one of the two values i.e. True        or False.\n",
    "    \n",
    "    c.Sequence Data Type :-\n",
    "    \n",
    "    String ,List,Tuple\n",
    "    \n",
    "    1 . String = A string is a collection of one or more characters put in a single quote, double-quote or triple quote.\n",
    "    In python there is no character data type, a character is a string of length one.\n",
    "    \n",
    "    2.List = Lists are just like the arrays, declared in other languages which is a ordered collection of data.\n",
    "    we can add anytype of data type inside list .\n",
    "    ex.List = [\"Arya\" , \"Ineuron\" , \"Data]\n",
    "    \n",
    "    3.tuples= tuples are same as list but tuples are immutable , once created cannot modify.\n",
    "    ex.tuple=(1,3,5)\n",
    "    \n"
   ]
  },
  {
   "cell_type": "code",
   "execution_count": null,
   "id": "7c86311e",
   "metadata": {},
   "outputs": [],
   "source": [
    "4. What is an expression made up of? What do all expressions do?\n",
    "\n",
    "An expression is made of operators, constants and variables. An expression may consist of one or more operands \n",
    "and zero or more operators to produce a value.\n",
    "for example \n",
    "Total = a + b * c\n",
    "here,\n",
    "a,b,c are operands.&\n",
    "\"+\",\"*\" are operators.\n",
    "\n",
    "Expression performs provided operations which is assign to calculate correct output result, Inshort there are various types of \n",
    "expressions all are used to carried out the opertions assigns to it to get the reults.\n"
   ]
  },
  {
   "cell_type": "code",
   "execution_count": null,
   "id": "dd3acd16",
   "metadata": {},
   "outputs": [],
   "source": [
    "5. This assignment statements, like spam = 10. What is the difference between an\n",
    "expression and a statement?\n",
    "Ans:\n",
    "    \n",
    "Assignment statements are used to assign the the value or data to any variable string , in spam = 10 , we assign 10 to the \n",
    "variable spam , 10 is stored in spam , when spam variable is called 10 is get print.\n",
    " An Expression always evaluates to a value.Expression performs provided operations which is assign to calculate \n",
    "correct output result  Whereas  A statement does something, like creating a variable or displaying \n",
    "a value, it only does whatever the statement says."
   ]
  },
  {
   "cell_type": "code",
   "execution_count": null,
   "id": "692c9252",
   "metadata": {},
   "outputs": [],
   "source": [
    "6. After running the following code, what does the variable bacon contain?\n",
    "bacon = 22\n",
    "bacon + 1\n",
    "\n",
    "Ans:\n",
    "    After running the code the bacon variable contains 23 because in 1st expression value 22 is assign to bacon \n",
    "    and in 2nd expression addition of 1 happens so it contains 23."
   ]
  },
  {
   "cell_type": "code",
   "execution_count": null,
   "id": "f5cfec78",
   "metadata": {},
   "outputs": [],
   "source": [
    "7. What should the values of the following two terms be?\n",
    "'spam'+'spamspam'\n",
    "'spam'*3\n",
    "\n",
    "Ans : The value of the following two terms will be 'spamspamspam' . the spam*3 opertion is assign in last so it get exeuted."
   ]
  },
  {
   "cell_type": "code",
   "execution_count": null,
   "id": "7b564c13",
   "metadata": {},
   "outputs": [],
   "source": [
    "8. Why is eggs a valid variable name while 100 is invalid?\n",
    "\n",
    "A variable name must start with a letter or the underscore character. A variable name cannot start with a number. A variable\n",
    "name can only contain alpha-numeric characters and underscores (A-z, 0-9, and _ ) Variable names are case-sensitive \n",
    "(age, Age and AGE are three different variables), so 100 is invalid variaable name and egg is valid one."
   ]
  },
  {
   "cell_type": "code",
   "execution_count": null,
   "id": "c4840d5f",
   "metadata": {},
   "outputs": [],
   "source": [
    "9. What three functions can be used to get the integer, floating-point number, or string\n",
    "version of a value?\n",
    "\n",
    " int() used to get integer ,\n",
    "    float() used to get floating-point number,\n",
    "    str( ) used to get string"
   ]
  },
  {
   "cell_type": "code",
   "execution_count": null,
   "id": "8fd8c8b5",
   "metadata": {},
   "outputs": [],
   "source": [
    "10.Why does this expression cause an error? How can you fix it?\n",
    "\n",
    "in this expression , there is string with interger and A string can concatenate string to string , the solution to this is  , \n",
    "we have to concatenate string into interger for that use str(99) inplace of 99 . here str represent string , \n",
    "that how the way to concatenate string into interger."
   ]
  }
 ],
 "metadata": {
  "kernelspec": {
   "display_name": "Python 3 (ipykernel)",
   "language": "python",
   "name": "python3"
  },
  "language_info": {
   "codemirror_mode": {
    "name": "ipython",
    "version": 3
   },
   "file_extension": ".py",
   "mimetype": "text/x-python",
   "name": "python",
   "nbconvert_exporter": "python",
   "pygments_lexer": "ipython3",
   "version": "3.9.12"
  }
 },
 "nbformat": 4,
 "nbformat_minor": 5
}

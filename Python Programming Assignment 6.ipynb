{
 "cells": [
  {
   "cell_type": "code",
   "execution_count": 14,
   "id": "ff88447c",
   "metadata": {},
   "outputs": [
    {
     "name": "stdout",
     "output_type": "stream",
     "text": [
      "fibbonaci series is :\n",
      "0\n",
      "1\n",
      "1\n",
      "3\n",
      "5\n",
      "7\n",
      "9\n",
      "11\n",
      "13\n",
      "15\n"
     ]
    }
   ],
   "source": [
    "\n",
    "#1. Write a Python Program to Display Fibonacci Sequence Using Recursion?\n",
    "def fibbo(n):\n",
    "    if n <= 1:\n",
    "        return n\n",
    "    else:\n",
    "        return (fibbo(n-1) + fibbo(n-2))\n",
    "until = 10\n",
    "if until<0:\n",
    "    print(\"invalid syntax\")\n",
    "else :\n",
    "    print(\"fibbonaci series is :\")\n",
    "    for i in range(until):\n",
    "          print(fibbo(i))       "
   ]
  },
  {
   "cell_type": "code",
   "execution_count": null,
   "id": "e9366f2b",
   "metadata": {},
   "outputs": [],
   "source": [
    "2. Write a Python Program to Find Factorial of Number Using Recursion?"
   ]
  },
  {
   "cell_type": "code",
   "execution_count": 23,
   "id": "06f24830",
   "metadata": {},
   "outputs": [
    {
     "name": "stdout",
     "output_type": "stream",
     "text": [
      "factorial of  5 is 120\n"
     ]
    }
   ],
   "source": [
    "def factorial(n):\n",
    "    if n==1:\n",
    "        return n\n",
    "       \n",
    "    else:\n",
    "        return n*factorial(n-1)\n",
    "num = 5\n",
    "if num <0 :\n",
    "    print(\"please enter positive number\")\n",
    "elif num==0:\n",
    "    print(\"factorial of 0 is 1 \")\n",
    "else:\n",
    "    print(\"factorial of \", num ,\"is\", factorial(num))\n",
    "            \n",
    "        \n",
    "        \n",
    "        "
   ]
  },
  {
   "cell_type": "code",
   "execution_count": null,
   "id": "10366d42",
   "metadata": {},
   "outputs": [],
   "source": [
    "3. Write a Python Program to calculate your Body Mass Index?"
   ]
  },
  {
   "cell_type": "code",
   "execution_count": 37,
   "id": "4d43c889",
   "metadata": {},
   "outputs": [
    {
     "name": "stdout",
     "output_type": "stream",
     "text": [
      "The BMI is 0.001388888888888889\n"
     ]
    }
   ],
   "source": [
    "def BMI(height, weight):\n",
    "    bmi = weight/(height**2)\n",
    "    return bmi\n",
    " \n",
    "height = 60\n",
    "weight = 5\n",
    " \n",
    "bmi = BMI(height, weight)\n",
    "print(\"The BMI is\", bmi)"
   ]
  },
  {
   "cell_type": "code",
   "execution_count": null,
   "id": "fdc38e54",
   "metadata": {},
   "outputs": [],
   "source": [
    "4. Write a Python Program to calculate the natural logarithm of any number?"
   ]
  },
  {
   "cell_type": "code",
   "execution_count": 46,
   "id": "672971a1",
   "metadata": {},
   "outputs": [
    {
     "name": "stdout",
     "output_type": "stream",
     "text": [
      " logarithm of 10 with base 2 is  3.3219280948873626\n"
     ]
    }
   ],
   "source": [
    "import math\n",
    "num = 10\n",
    "base= 2\n",
    "op = math.log(10 , 2)\n",
    "print( \" logarithm of\", num,\"with base\",base, \"is \",op)\n",
    "    "
   ]
  },
  {
   "cell_type": "code",
   "execution_count": null,
   "id": "b41851dc",
   "metadata": {},
   "outputs": [],
   "source": [
    "5. Write a Python Program for cube sum of first n natural numbers?"
   ]
  },
  {
   "cell_type": "code",
   "execution_count": 4,
   "id": "bed8621a",
   "metadata": {},
   "outputs": [
    {
     "name": "stdout",
     "output_type": "stream",
     "text": [
      "the subic sum of number 5 is  225\n"
     ]
    }
   ],
   "source": [
    "def sumcube(n):\n",
    "    sum = 0\n",
    "    for i in range(1 , n+1):\n",
    "        sum +=pow(i,3)\n",
    "    return sum\n",
    "n = 5 \n",
    "print(\"the subic sum of number\", num,\"is \",sumcube(n))"
   ]
  },
  {
   "cell_type": "code",
   "execution_count": null,
   "id": "928cafe8",
   "metadata": {},
   "outputs": [],
   "source": []
  }
 ],
 "metadata": {
  "kernelspec": {
   "display_name": "Python 3 (ipykernel)",
   "language": "python",
   "name": "python3"
  },
  "language_info": {
   "codemirror_mode": {
    "name": "ipython",
    "version": 3
   },
   "file_extension": ".py",
   "mimetype": "text/x-python",
   "name": "python",
   "nbconvert_exporter": "python",
   "pygments_lexer": "ipython3",
   "version": "3.9.12"
  },
  "varInspector": {
   "cols": {
    "lenName": 16,
    "lenType": 16,
    "lenVar": 40
   },
   "kernels_config": {
    "python": {
     "delete_cmd_postfix": "",
     "delete_cmd_prefix": "del ",
     "library": "var_list.py",
     "varRefreshCmd": "print(var_dic_list())"
    },
    "r": {
     "delete_cmd_postfix": ") ",
     "delete_cmd_prefix": "rm(",
     "library": "var_list.r",
     "varRefreshCmd": "cat(var_dic_list()) "
    }
   },
   "types_to_exclude": [
    "module",
    "function",
    "builtin_function_or_method",
    "instance",
    "_Feature"
   ],
   "window_display": false
  }
 },
 "nbformat": 4,
 "nbformat_minor": 5
}

{
 "cells": [
  {
   "cell_type": "code",
   "execution_count": null,
   "id": "f92c9bc7",
   "metadata": {},
   "outputs": [],
   "source": [
    "1.What are the two values of the Boolean data type? How do you write them?\n",
    "\n",
    "Two values of boolean data type is True & False.\n",
    "we can write them as\n",
    "\n",
    "x = 5\n",
    "y = 5\n",
    "print(bool(x==y))\n",
    "\n",
    "it will print True"
   ]
  },
  {
   "cell_type": "code",
   "execution_count": null,
   "id": "3e5c51be",
   "metadata": {},
   "outputs": [],
   "source": [
    "2. What are the three different types of Boolean operators?\n",
    "\n",
    " The three different type of boolean operator AND , OR ,NOT."
   ]
  },
  {
   "cell_type": "code",
   "execution_count": null,
   "id": "5a187926",
   "metadata": {},
   "outputs": [],
   "source": [
    "3. Make a list of each Boolean operator truth tables (i.e. every possible combination of Boolean\n",
    "values for the operator and what it evaluate ).\n",
    "\n",
    "AND =         \n",
    "\n",
    "A   B   OUTPUT\n",
    "T   T    T\n",
    "T   F    F\n",
    "F   T    F\n",
    "F   F    F\n",
    "\n",
    "OR =         \n",
    "\n",
    "A   B   OUTPUT\n",
    "T   T    T\n",
    "T   F    T\n",
    "F   T    T\n",
    "F   F    F\n",
    "\n",
    "NOT =         \n",
    "\n",
    "A     OUTPUT\n",
    "T      F\n",
    "F      T\n"
   ]
  },
  {
   "cell_type": "code",
   "execution_count": null,
   "id": "ff8a4f0b",
   "metadata": {},
   "outputs": [],
   "source": [
    "4.What are the values of the following expressions?\n",
    "\n",
    "(5 > 4) and (3 == 5)  : FALSE\n",
    "not (5 > 4)           :FALSE\n",
    "(5 > 4) or (3 == 5)   :TRUE\n",
    "not ((5 > 4) or (3 == 5))  :FALSE\n",
    "(True and True) and (True == False) :FALSE\n",
    "(not False) or (not True) :TRUE"
   ]
  },
  {
   "cell_type": "code",
   "execution_count": null,
   "id": "21bd7886",
   "metadata": {},
   "outputs": [],
   "source": [
    "5. What are the six comparison operators?\n",
    "\n",
    "1. Equal to (==)\n",
    "2.greater than (>)\n",
    "3.lesser than (<)\n",
    "4.greater than Equal to(>=)\n",
    "5.lesser than Equal to(<=)\n",
    "6.Not equal to(!=)"
   ]
  },
  {
   "cell_type": "code",
   "execution_count": null,
   "id": "d824b3bf",
   "metadata": {},
   "outputs": [],
   "source": [
    "6. How do you tell the difference between the equal to and assignment operators?Describe a\n",
    "condition and when you would use one.\n",
    "\n",
    "The \"=\" is an assignment operator is used to assign the value on the right to the variable on the left.The '==' operator checks whether the two given operands are equal or not. If so, it returns true.this is the basic differnce .\n",
    "if you want to assign any value to any varible then you can use assignment operator.&\n",
    "if you want check the two values are eqaul or not then you can equal to operator."
   ]
  },
  {
   "cell_type": "code",
   "execution_count": null,
   "id": "88328149",
   "metadata": {},
   "outputs": [],
   "source": [
    "7. Identify the three blocks in this code:\n",
    "spam = 0\n",
    "if spam == 10:\n",
    "print('eggs')\n",
    "if spam > 5:\n",
    "print('bacon')\n",
    "else:\n",
    "print('ham')\n",
    "print('spam')\n",
    "print('spam')\n",
    "      \n",
    "    Ans:\n",
    "        The three blocks are everything inside the if statement and the lines print('bacon') and print('ham').\n",
    "print('eggs')\n",
    "if spam > 5:\n",
    "print('bacon')\n",
    "else:\n",
    "print('ham')\n",
    "print('spam')\n",
    "      "
   ]
  },
  {
   "cell_type": "code",
   "execution_count": null,
   "id": "2b737ceb",
   "metadata": {},
   "outputs": [],
   "source": [
    "8. Write code that prints Hello if 1 is stored in spam, prints Howdy if 2 is stored in spam, and prints\n",
    "Greetings! if anything else is stored in spam.\n",
    "\n",
    "spam = 2 \n",
    "if spam == 1 :\n",
    "    print(\"Hello\")     \n",
    "elif spam == 2:\n",
    "    print(\"Howdy\")\n",
    "else:\n",
    "    print(\"Greetings! \")\n",
    "    \n",
    "    "
   ]
  },
  {
   "cell_type": "code",
   "execution_count": null,
   "id": "926e5af9",
   "metadata": {},
   "outputs": [],
   "source": [
    "9.If your programme is stuck in an endless loop, what keys you’ll press?\n",
    "\n",
    "To get out of endless loop i will press  CTRL + C"
   ]
  },
  {
   "cell_type": "code",
   "execution_count": null,
   "id": "4323395a",
   "metadata": {},
   "outputs": [],
   "source": [
    "10. How can you tell the difference between break and continue?\n",
    "\n",
    "The break and continue statements mostly used in loops ,break statement terminate the loop and pass the control to the next loop\n",
    "or next part of code, whereas continue statement it only skip the current iteration of loop and perform th next iteration of \n",
    "loop."
   ]
  },
  {
   "cell_type": "code",
   "execution_count": null,
   "id": "828a9ae1",
   "metadata": {},
   "outputs": [],
   "source": [
    "11. In a for loop, what is the difference between range(10), range(0, 10), and range(0, 10, 1)?\n",
    "\n",
    "in for loop ,\n",
    "\n",
    "for range(10) it will call range from 0 to 9 expect 10, here it assume the start is from 0 only.when a start index is not define it assume\n",
    "it as zero\n",
    "\n",
    "for range (0,10) it will call range from 0 to 9 expect 10 , range is start from 0 as we define .\n",
    "\n",
    "for range (0,10,1) it will also call the range from  0 to 9 with the gap of 1 in all elements .as we define the gap as 1 in\n",
    "range function.\n"
   ]
  },
  {
   "cell_type": "code",
   "execution_count": null,
   "id": "13d3d46a",
   "metadata": {},
   "outputs": [],
   "source": [
    "12. Write a short program that prints the numbers 1 to 10 using a for loop. Then write an equivalent\n",
    "program that prints the numbers 1 to 10 using a while loop.\n",
    "\n",
    "For loop\n",
    "for i in range(1,11):\n",
    "    print i\n",
    "    \n",
    "while loop:\n",
    "i = 1 \n",
    "while (i<=10):\n",
    "    print(i)\n",
    "    i += 1\n",
    "    "
   ]
  },
  {
   "cell_type": "code",
   "execution_count": null,
   "id": "43097906",
   "metadata": {},
   "outputs": [],
   "source": [
    "13. If you had a function named bacon() inside a module named spam, how would you call it after\n",
    "importing spam?\n",
    "\n",
    "we can call it as\n",
    "\n",
    "spam.becon()"
   ]
  }
 ],
 "metadata": {
  "kernelspec": {
   "display_name": "Python 3 (ipykernel)",
   "language": "python",
   "name": "python3"
  },
  "language_info": {
   "codemirror_mode": {
    "name": "ipython",
    "version": 3
   },
   "file_extension": ".py",
   "mimetype": "text/x-python",
   "name": "python",
   "nbconvert_exporter": "python",
   "pygments_lexer": "ipython3",
   "version": "3.9.12"
  }
 },
 "nbformat": 4,
 "nbformat_minor": 5
}
